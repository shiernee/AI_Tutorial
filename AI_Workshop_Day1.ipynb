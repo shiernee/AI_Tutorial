{
  "nbformat": 4,
  "nbformat_minor": 0,
  "metadata": {
    "colab": {
      "name": "AI_Workshop_Day1.ipynb",
      "provenance": [],
      "collapsed_sections": [],
      "authorship_tag": "ABX9TyMCfPDOE50EhAb7Tjaa/jHW",
      "include_colab_link": true
    },
    "kernelspec": {
      "name": "python3",
      "display_name": "Python 3"
    },
    "language_info": {
      "name": "python"
    }
  },
  "cells": [
    {
      "cell_type": "markdown",
      "metadata": {
        "id": "view-in-github",
        "colab_type": "text"
      },
      "source": [
        "<a href=\"https://colab.research.google.com/github/shiernee/AI_Tutorial/blob/main/AI_Workshop_Day1.ipynb\" target=\"_parent\"><img src=\"https://colab.research.google.com/assets/colab-badge.svg\" alt=\"Open In Colab\"/></a>"
      ]
    },
    {
      "cell_type": "markdown",
      "metadata": {
        "id": "NYqCknH5FxFH"
      },
      "source": [
        "#**Part 1: Google Colab Introductory Workshop**\n",
        "\n",
        "The first part of the workshop will introduce important features in available in Colab. <br>\n",
        "\n",
        "Colab is an interactive coding enviroment to get start to code easily. The code can be executed easily by click the *play* button on the cell. <br>\n",
        "\n",
        "Let's get started.\n"
      ]
    },
    {
      "cell_type": "markdown",
      "metadata": {
        "id": "pkqJlxFeQnm_"
      },
      "source": [
        " **Let's try to print *Hello World***\n"
      ]
    },
    {
      "cell_type": "code",
      "metadata": {
        "id": "eMJTVMqc0G-5",
        "colab": {
          "base_uri": "https://localhost:8080/"
        },
        "outputId": "b12b33d2-281c-4366-fdcc-e66bcc57bb3f"
      },
      "source": [
        "print('Hello World')"
      ],
      "execution_count": 1,
      "outputs": [
        {
          "output_type": "stream",
          "name": "stdout",
          "text": [
            "Hello World\n"
          ]
        }
      ]
    },
    {
      "cell_type": "code",
      "metadata": {
        "id": "i7Q_rCkfQAMx",
        "colab": {
          "base_uri": "https://localhost:8080/"
        },
        "outputId": "3972abef-e003-4ad7-9c56-bc969d59d090"
      },
      "source": [
        "# It's your turn to try. \n",
        "# Print your name. \n",
        "# Type your code below and click the play button to execute the cell. \n",
        "# You should see you name appear.\n",
        "print('Shier Nee')"
      ],
      "execution_count": 2,
      "outputs": [
        {
          "output_type": "stream",
          "name": "stdout",
          "text": [
            "Shier Nee\n"
          ]
        }
      ]
    },
    {
      "cell_type": "code",
      "metadata": {
        "id": "lp82b8u0Zs0B",
        "cellView": "form",
        "colab": {
          "base_uri": "https://localhost:8080/"
        },
        "outputId": "d2a68c48-101f-482b-d28b-fe084b05e2e9"
      },
      "source": [
        "#@title Solution\n",
        "print('Richard Hunter')"
      ],
      "execution_count": 3,
      "outputs": [
        {
          "output_type": "stream",
          "name": "stdout",
          "text": [
            "Richard Hunter\n"
          ]
        }
      ]
    },
    {
      "cell_type": "markdown",
      "metadata": {
        "id": "AVsdInd3RFnl"
      },
      "source": [
        "**Perform Calculation**"
      ]
    },
    {
      "cell_type": "code",
      "metadata": {
        "id": "1r0ciAcJQGon",
        "colab": {
          "base_uri": "https://localhost:8080/"
        },
        "outputId": "78206be6-89ca-49ad-82ac-eb9d31601c3d"
      },
      "source": [
        "seconds_in_a_day = 24 * 60 * 60\n",
        "seconds_in_a_day"
      ],
      "execution_count": 4,
      "outputs": [
        {
          "output_type": "execute_result",
          "data": {
            "text/plain": [
              "86400"
            ]
          },
          "metadata": {},
          "execution_count": 4
        }
      ]
    },
    {
      "cell_type": "code",
      "metadata": {
        "id": "wgX6CDdVRN8e"
      },
      "source": [
        "# It's your turn to try. \n",
        "# Perform calculation of 45 divided by 20 and then multiplies by 8\n",
        "# Type your code below and click the play button to execute the cell. \n",
        "# You should get an answer of 18.\n"
      ],
      "execution_count": 5,
      "outputs": []
    },
    {
      "cell_type": "code",
      "metadata": {
        "id": "7FR9dS9QZzHD",
        "cellView": "form",
        "colab": {
          "base_uri": "https://localhost:8080/"
        },
        "outputId": "b222e638-3c50-4c12-e500-005a9579f857"
      },
      "source": [
        "#@title Solution\n",
        "45/20*8"
      ],
      "execution_count": 6,
      "outputs": [
        {
          "output_type": "execute_result",
          "data": {
            "text/plain": [
              "18.0"
            ]
          },
          "metadata": {},
          "execution_count": 6
        }
      ]
    },
    {
      "cell_type": "markdown",
      "metadata": {
        "id": "fJJuwAlYR2nS"
      },
      "source": [
        "**Create a Loop**"
      ]
    },
    {
      "cell_type": "code",
      "metadata": {
        "id": "MEzbZqQ_R7Vf",
        "colab": {
          "base_uri": "https://localhost:8080/"
        },
        "outputId": "6920dcb1-b41b-45e0-ea8a-a44951238b3c"
      },
      "source": [
        "# Creating a loop \n",
        "# Python always start from zero\n",
        "# range(start, end, step)\n",
        "\n",
        "for i in range(10):\n",
        "  print(i)"
      ],
      "execution_count": 7,
      "outputs": [
        {
          "output_type": "stream",
          "name": "stdout",
          "text": [
            "0\n",
            "1\n",
            "2\n",
            "3\n",
            "4\n",
            "5\n",
            "6\n",
            "7\n",
            "8\n",
            "9\n"
          ]
        }
      ]
    },
    {
      "cell_type": "code",
      "metadata": {
        "id": "eWqHuSYnSnO-"
      },
      "source": [
        "# It's your turn to try. \n",
        "# Create a loop to print from 2 to 10 \n",
        "# Type your code below and click the play button to execute the cell. \n",
        "# You should get an answer of 2,3,4,5,6,7,8,9,10.\n"
      ],
      "execution_count": 8,
      "outputs": []
    },
    {
      "cell_type": "code",
      "metadata": {
        "id": "vj_ZAyFNZ5uy",
        "cellView": "form",
        "colab": {
          "base_uri": "https://localhost:8080/"
        },
        "outputId": "671188b4-a4c3-4aaa-9cf9-7c6fe12f4d67"
      },
      "source": [
        "#@title Solution\n",
        "for i in range(2, 11):\n",
        "  print(i)"
      ],
      "execution_count": 9,
      "outputs": [
        {
          "output_type": "stream",
          "name": "stdout",
          "text": [
            "2\n",
            "3\n",
            "4\n",
            "5\n",
            "6\n",
            "7\n",
            "8\n",
            "9\n",
            "10\n"
          ]
        }
      ]
    },
    {
      "cell_type": "code",
      "metadata": {
        "id": "0V9tFHC8SdaJ"
      },
      "source": [
        "# It's your turn to try. \n",
        "# Create a loop to print from 2 to 10, by skipping 2\n",
        "# Type your code below and click the play button to execute the cell. \n",
        "# You should get an answer of 2,4,6,8,10\n"
      ],
      "execution_count": 10,
      "outputs": []
    },
    {
      "cell_type": "code",
      "metadata": {
        "id": "emM39d_IaAGi",
        "cellView": "form",
        "colab": {
          "base_uri": "https://localhost:8080/"
        },
        "outputId": "61d926a5-d4fe-47f3-a634-a2629a197cb5"
      },
      "source": [
        "#@title Solution\n",
        "for i in range(2, 11, 2):\n",
        "  print(i)"
      ],
      "execution_count": 11,
      "outputs": [
        {
          "output_type": "stream",
          "name": "stdout",
          "text": [
            "2\n",
            "4\n",
            "6\n",
            "8\n",
            "10\n"
          ]
        }
      ]
    },
    {
      "cell_type": "markdown",
      "metadata": {
        "id": "Rq1nBhD5Tc5m"
      },
      "source": [
        "**Create a list of values**"
      ]
    },
    {
      "cell_type": "code",
      "metadata": {
        "id": "WFVrePErTYOo",
        "colab": {
          "base_uri": "https://localhost:8080/"
        },
        "outputId": "9ce6e3bd-cd05-4014-c788-b250ffdc5835"
      },
      "source": [
        "# Create a list of value from 0 to 9\n",
        "x = []\n",
        "for i in range(10):\n",
        "  x.append(i)\n",
        "\n",
        "print(x)"
      ],
      "execution_count": 12,
      "outputs": [
        {
          "output_type": "stream",
          "name": "stdout",
          "text": [
            "[0, 1, 2, 3, 4, 5, 6, 7, 8, 9]\n"
          ]
        }
      ]
    },
    {
      "cell_type": "code",
      "metadata": {
        "id": "Il8OmA5FTp8t",
        "colab": {
          "base_uri": "https://localhost:8080/"
        },
        "outputId": "f40a495c-189a-4027-a9b6-a50e716f5437"
      },
      "source": [
        "# Another compact way to create a list of value\n",
        "x = [x for x in range(10)]\n",
        "print(x) "
      ],
      "execution_count": 13,
      "outputs": [
        {
          "output_type": "stream",
          "name": "stdout",
          "text": [
            "[0, 1, 2, 3, 4, 5, 6, 7, 8, 9]\n"
          ]
        }
      ]
    },
    {
      "cell_type": "code",
      "metadata": {
        "id": "M-UXC5NnT1bj"
      },
      "source": [
        "# It's your turn to try. \n",
        "# Create a list of value ranging from 2 to 10, by skipping 2\n",
        "# Type your code below and click the play button to execute the cell. \n",
        "# Print out the list. You should get [2,4,6,8,10]\n"
      ],
      "execution_count": 14,
      "outputs": []
    },
    {
      "cell_type": "code",
      "metadata": {
        "id": "hcYi1GwYY4WF",
        "cellView": "form",
        "colab": {
          "base_uri": "https://localhost:8080/"
        },
        "outputId": "b67a2fe5-e6cc-4988-b57d-ba2e121fd634"
      },
      "source": [
        "#@title Solution\n",
        "\n",
        "x = [x for x in range(2, 11, 2)]\n",
        "print(x) "
      ],
      "execution_count": 15,
      "outputs": [
        {
          "output_type": "stream",
          "name": "stdout",
          "text": [
            "[2, 4, 6, 8, 10]\n"
          ]
        }
      ]
    },
    {
      "cell_type": "markdown",
      "metadata": {
        "id": "wMFa3dc1TLOj"
      },
      "source": [
        "**Graph Visualization**"
      ]
    },
    {
      "cell_type": "code",
      "metadata": {
        "id": "BUftrGNSSF-E",
        "colab": {
          "base_uri": "https://localhost:8080/",
          "height": 295
        },
        "outputId": "e6850e21-67e9-4b73-9d72-97c71dd613c2"
      },
      "source": [
        "# We need to import packages\n",
        "# numpy for creating array and matplotlib for plotting \n",
        "\n",
        "import numpy as np\n",
        "from matplotlib import pyplot as plt\n",
        "\n",
        "ys = 200 + np.random.randn(100)  # create random numbers with a length of 100\n",
        "x = [x for x in range(len(ys))]\n",
        "x = np.array(x)\n",
        "\n",
        "plt.plot(x, ys, '-')\n",
        "plt.title(\"Sample Visualization\")\n",
        "plt.xlabel('x')\n",
        "plt.ylabel('y')\n",
        "plt.show()"
      ],
      "execution_count": 16,
      "outputs": [
        {
          "output_type": "display_data",
          "data": {
            "image/png": "[encoded data removed]",
            "text/plain": [
              "<Figure size 432x288 with 1 Axes>"
            ]
          },
          "metadata": {
            "needs_background": "light"
          }
        }
      ]
    },
    {
      "cell_type": "code",
      "metadata": {
        "id": "7GC05vEsVVxY"
      },
      "source": [
        "# It's your turn to try. \n",
        "# Create a list of x-value ranging from 0 to 500, by skipping 2\n",
        "# Create a list of y-value using the formula y = 5x^2 \n",
        "# square --> **; multiple --> *, divide --> /, plus --> +, minus --> -\n",
        "# Type your code below and click the play button to execute the cell. \n"
      ],
      "execution_count": 17,
      "outputs": []
    },
    {
      "cell_type": "code",
      "metadata": {
        "id": "A57CF73ZZke8",
        "cellView": "form",
        "colab": {
          "base_uri": "https://localhost:8080/",
          "height": 295
        },
        "outputId": "eb5705f3-f803-4f01-d358-8ce9c58a46f6"
      },
      "source": [
        "#@title Solution\n",
        "import numpy as np\n",
        "from matplotlib import pyplot as plt\n",
        "\n",
        "x = [x for x in range(0, 501, 2)]\n",
        "x = np.array(x)\n",
        "ys = 5*(x**2)\n",
        "\n",
        "plt.plot(x, ys, '-')\n",
        "plt.title(\"Sample Visualization\")\n",
        "plt.xlabel('x')\n",
        "plt.ylabel('y')\n",
        "plt.show()"
      ],
      "execution_count": 18,
      "outputs": [
        {
          "output_type": "display_data",
          "data": {
            "image/png": "[encoded data removed]",
            "text/plain": [
              "<Figure size 432x288 with 1 Axes>"
            ]
          },
          "metadata": {
            "needs_background": "light"
          }
        }
      ]
    },
    {
      "cell_type": "markdown",
      "metadata": {
        "id": "SbR1NOveWwH2"
      },
      "source": [
        "**Uploading files from your local file system** <br>\n",
        "files.upload returns a dictionary of the files which were uploaded. The dictionary is keyed by the file name and values are the data which were uploaded. <br>\n",
        "\n",
        "Refresh the folder in the left panel and you will the dataset you have uploaded. "
      ]
    },
    {
      "cell_type": "code",
      "metadata": {
        "id": "QclwRzIZWvoD",
        "colab": {
          "resources": {
            "http://localhost:8080/nbextensions/google.colab/files.js": {
              "data": "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",
              "ok": true,
              "headers": [
                [
                  "content-type",
                  "application/javascript"
                ]
              ],
              "status": 200,
              "status_text": ""
            }
          },
          "base_uri": "https://localhost:8080/",
          "height": 39
        },
        "outputId": "b8efe924-2b71-4828-ad80-9ee0dcbfc9c6"
      },
      "source": [
        "from google.colab import files\n",
        "\n",
        "uploaded = files.upload()\n",
        "\n",
        "for fn in uploaded.keys():\n",
        "  print('User uploaded file \"{name}\" with length {length} bytes'.format(\n",
        "      name=fn, length=len(uploaded[fn])))"
      ],
      "execution_count": 19,
      "outputs": [
        {
          "output_type": "display_data",
          "data": {
            "text/html": [
              "\n",
              "     <input type=\"file\" id=\"files-9f667990-cb30-4ee2-af9d-278990f75838\" name=\"files[]\" multiple disabled\n",
              "        style=\"border:none\" />\n",
              "     <output id=\"result-9f667990-cb30-4ee2-af9d-278990f75838\">\n",
              "      Upload widget is only available when the cell has been executed in the\n",
              "      current browser session. Please rerun this cell to enable.\n",
              "      </output>\n",
              "      <script src=\"/nbextensions/google.colab/files.js\"></script> "
            ],
            "text/plain": [
              "<IPython.core.display.HTML object>"
            ]
          },
          "metadata": {}
        }
      ]
    },
    {
      "cell_type": "markdown",
      "metadata": {
        "id": "dyOR3xUBcHNY"
      },
      "source": [
        "#**Part 2: Classification of MNIST Dreams with Convolutional Neural Networks**\n",
        "\n",
        "\n",
        "\n",
        "Let's go back to powerpoint to understand the concepts. \n",
        "\n"
      ]
    },
    {
      "cell_type": "markdown",
      "metadata": {
        "id": "gu_6xSOmjfn-"
      },
      "source": [
        "Now, we are ready. Let's build a convolutional neural network (CNN) classifier to classify images of handwritten digits in the MNIST dataset with a twist where we test our classifier on high-resolution hand-written digits from outside the dataset."
      ]
    },
    {
      "cell_type": "markdown",
      "metadata": {
        "id": "rux9DMMHgxrC"
      },
      "source": [
        "## 1. Import Data"
      ]
    },
    {
      "cell_type": "code",
      "metadata": {
        "id": "CMxLhrm4c4A5"
      },
      "source": [
        "from sklearn.datasets import fetch_openml\n",
        "\n",
        "mnist = fetch_openml('mnist_784', cache=False)\n",
        "X = mnist.data.astype('float32') # image\n",
        "y = mnist.target.astype('int64')  # label"
      ],
      "execution_count": 20,
      "outputs": []
    },
    {
      "cell_type": "code",
      "metadata": {
        "id": "6qiUrN-Eda_f",
        "colab": {
          "base_uri": "https://localhost:8080/",
          "height": 299
        },
        "outputId": "dca2389e-38a0-4ca0-ba3f-65d275811536"
      },
      "source": [
        "# randomly view datasets\n",
        "# re-execute the cell to view other datasets\n",
        "import matplotlib.pyplot as plt\n",
        "import numpy as np\n",
        "\n",
        "index = np.random.randint(0,len(X))\n",
        "\n",
        "plt.imshow(X[index].reshape([28, 28]))\n",
        "plt.title(y[index])"
      ],
      "execution_count": 21,
      "outputs": [
        {
          "output_type": "execute_result",
          "data": {
            "text/plain": [
              "Text(0.5, 1.0, '7')"
            ]
          },
          "metadata": {},
          "execution_count": 21
        },
        {
          "output_type": "display_data",
          "data": {
            "image/png": "[encoded data removed]",
            "text/plain": [
              "<Figure size 432x288 with 1 Axes>"
            ]
          },
          "metadata": {
            "needs_background": "light"
          }
        }
      ]
    },
    {
      "cell_type": "markdown",
      "metadata": {
        "id": "tzHArh21f45A"
      },
      "source": [
        "# 2. Data Splitting\n"
      ]
    },
    {
      "cell_type": "code",
      "metadata": {
        "id": "Xlzg-2kuf4op",
        "colab": {
          "base_uri": "https://localhost:8080/"
        },
        "outputId": "b05c9565-4a2a-4976-8e88-c581e79b05ce"
      },
      "source": [
        "import tensorflow as tf\n",
        "from tensorflow import keras\n",
        "from tensorflow.keras.layers import Conv2D, MaxPooling2D, Dropout, Flatten, Dense\n",
        "\n",
        "(train_images_load, train_labels_load), (test_images_load, test_labels_load) = keras.datasets.mnist.load_data()\n",
        "\n",
        "# reshape images to specify that it's a single channel\n",
        "train_images_load = train_images_load.reshape(train_images_load.shape[0], 28, 28, 1)\n",
        "test_images_load = test_images_load.reshape(test_images_load.shape[0], 28, 28, 1)\n",
        "\n",
        "# Takes only the first 10000 training data and 6000 testing data due to limited computational resources\n",
        "\n",
        "no_train = 10000\n",
        "no_test = 6000\n",
        "\n",
        "train_images = train_images_load[:no_train]\n",
        "train_labels = train_labels_load[:no_train]\n",
        "test_images = test_images_load[:no_test]\n",
        "test_labels = test_labels_load[:no_test]\n"
      ],
      "execution_count": 22,
      "outputs": [
        {
          "output_type": "stream",
          "name": "stdout",
          "text": [
            "Downloading data from https://storage.googleapis.com/tensorflow/tf-keras-datasets/mnist.npz\n",
            "11493376/11490434 [==============================] - 0s 0us/step\n",
            "11501568/11490434 [==============================] - 0s 0us/step\n"
          ]
        }
      ]
    },
    {
      "cell_type": "markdown",
      "metadata": {
        "id": "OESq6QzN0NmF"
      },
      "source": [
        "### **Exercise**\n",
        "\n",
        "Check if the number of samples in train and test image are 10,000 and 6,000 respectively"
      ]
    },
    {
      "cell_type": "code",
      "metadata": {
        "id": "R4JTVHWv0BOd"
      },
      "source": [
        "# type your code here \n"
      ],
      "execution_count": 23,
      "outputs": []
    },
    {
      "cell_type": "code",
      "metadata": {
        "id": "rk3aZn_z0aBq",
        "colab": {
          "base_uri": "https://localhost:8080/"
        },
        "cellView": "form",
        "outputId": "d53a4a3b-3829-4eef-ce79-d65cce048c02"
      },
      "source": [
        "#@title Solution\n",
        "print('train_image: ', len(train_images))\n",
        "print('test_images: ', len(test_images))\n"
      ],
      "execution_count": 24,
      "outputs": [
        {
          "output_type": "stream",
          "name": "stdout",
          "text": [
            "train_image:  10000\n",
            "test_images:  6000\n"
          ]
        }
      ]
    },
    {
      "cell_type": "markdown",
      "metadata": {
        "id": "PGC7L1NFgOQ6"
      },
      "source": [
        "We scale these values to a range of 0 to 1 before feeding to the neural network model. For this, we divide the values by 255. It's important that the *training set* and the *testing set* are preprocessed in the same way:"
      ]
    },
    {
      "cell_type": "code",
      "metadata": {
        "id": "DYFC56as1lZp",
        "colab": {
          "base_uri": "https://localhost:8080/"
        },
        "outputId": "0de179d6-8252-49d2-9afe-17a2d2a15982"
      },
      "source": [
        "test_images.shape"
      ],
      "execution_count": 25,
      "outputs": [
        {
          "output_type": "execute_result",
          "data": {
            "text/plain": [
              "(6000, 28, 28, 1)"
            ]
          },
          "metadata": {},
          "execution_count": 25
        }
      ]
    },
    {
      "cell_type": "code",
      "metadata": {
        "id": "d5Ptl1gIe_YZ"
      },
      "source": [
        "def preprocess_images(imgs): # should work for both a single image and multiple images\n",
        "    sample_img = imgs if len(imgs.shape) == 2 else imgs[0]\n",
        "    assert sample_img.shape in [(28, 28, 1), (28, 28)], sample_img.shape # make sure images are 28x28 and single-channel (grayscale)\n",
        "    return imgs / 255.0\n",
        "\n",
        "train_images = preprocess_images(train_images)\n",
        "test_images = preprocess_images(test_images)"
      ],
      "execution_count": 26,
      "outputs": []
    },
    {
      "cell_type": "markdown",
      "metadata": {
        "id": "-nAo0eedgRv1"
      },
      "source": [
        "Display the first 5 images from the *training set* and display the class name below each image. Verify that the data is in the correct format and we're ready to build and train the network."
      ]
    },
    {
      "cell_type": "code",
      "metadata": {
        "id": "4QE7KXL8gTMR",
        "colab": {
          "base_uri": "https://localhost:8080/",
          "height": 141
        },
        "outputId": "9b1463b6-6cd0-4cf8-f695-d8861bfd830b"
      },
      "source": [
        "plt.figure(figsize=(10,2))\n",
        "for i in range(5):\n",
        "    plt.subplot(1,5,i+1)\n",
        "    plt.xticks([])\n",
        "    plt.yticks([])\n",
        "    plt.grid(False)\n",
        "    plt.imshow(train_images[i].reshape(28, 28), cmap=plt.cm.binary)\n",
        "    plt.xlabel(train_labels[i])"
      ],
      "execution_count": 27,
      "outputs": [
        {
          "output_type": "display_data",
          "data": {
            "image/png": "[encoded data removed]",
            "text/plain": [
              "<Figure size 720x144 with 5 Axes>"
            ]
          },
          "metadata": {}
        }
      ]
    },
    {
      "cell_type": "markdown",
      "metadata": {
        "id": "Qu_SFcnAg77P"
      },
      "source": [
        "## 3. Build the model\n",
        "\n",
        "Building the neural network requires configuring the layers of the model, then compiling the model. In many cases, this can be reduced to simply stacking together layers:"
      ]
    },
    {
      "cell_type": "code",
      "metadata": {
        "id": "LsPDmpbDhJJ5"
      },
      "source": [
        "model = keras.Sequential()\n",
        "# 32 convolution filters used each of size 3x3\n",
        "model.add(Conv2D(32, kernel_size=(3, 3), activation='relu', input_shape=(28, 28, 1)))\n",
        "# 64 convolution filters used each of size 3x3\n",
        "model.add(Conv2D(64, (3, 3), activation='relu'))\n",
        "# choose the best features via pooling\n",
        "model.add(MaxPooling2D(pool_size=(2, 2)))\n",
        "# randomly turn neurons on and off to improve convergence\n",
        "model.add(Dropout(0.25))\n",
        "# flatten since too many dimensions, we only want a classification output\n",
        "model.add(Flatten())\n",
        "# fully connected to get all relevant data\n",
        "model.add(Dense(128, activation='relu'))\n",
        "# one more dropout\n",
        "model.add(Dropout(0.5))\n",
        "# output a softmax to squash the matrix into output probabilities\n",
        "model.add(Dense(10, activation='softmax'))"
      ],
      "execution_count": 28,
      "outputs": []
    },
    {
      "cell_type": "markdown",
      "metadata": {
        "id": "wKYLbPWghLFD"
      },
      "source": [
        "Before the model is ready for training, it needs a few more settings. These are added during the model's *compile* step:\n",
        "\n",
        "* *Loss function* - measures how accurate the model is during training, we want to minimize this with the optimizer.\n",
        "* *Optimizer* - how the model is updated based on the data it sees and its loss function.\n",
        "* *Metrics* - used to monitor the training and testing steps. \"accuracy\" is the fraction of images that are correctly classified."
      ]
    },
    {
      "cell_type": "code",
      "metadata": {
        "id": "cdtSKK5rhMkh"
      },
      "source": [
        "model.compile(optimizer= tf.optimizers.Adam(), \n",
        "              loss='sparse_categorical_crossentropy',\n",
        "              metrics=['accuracy'])"
      ],
      "execution_count": 29,
      "outputs": []
    },
    {
      "cell_type": "markdown",
      "metadata": {
        "id": "CdOPTOLUhOMT"
      },
      "source": [
        "## 4. Train the model\n",
        "\n",
        "Training the neural network model requires the following steps:\n",
        "\n",
        "1. Feed the training data to the model—in this example, the `train_images` and `train_labels` arrays.\n",
        "2. The model learns to associate images and labels.\n",
        "3. We ask the model to make predictions about a test set—in this example, the `test_images` array. We verify that the predictions match the labels from the `test_labels` array. \n",
        "\n",
        "To start training,  call the `model.fit` method—the model is \"fit\" to the training data:"
      ]
    },
    {
      "cell_type": "code",
      "metadata": {
        "id": "KvIhWAhihQDH",
        "colab": {
          "base_uri": "https://localhost:8080/"
        },
        "outputId": "5cfac9a7-0a9a-425d-91b1-28d64333961a"
      },
      "source": [
        "history = model.fit(train_images, train_labels, epochs=5)"
      ],
      "execution_count": 30,
      "outputs": [
        {
          "output_type": "stream",
          "name": "stdout",
          "text": [
            "Epoch 1/5\n",
            "313/313 [==============================] - 25s 78ms/step - loss: 0.4723 - accuracy: 0.8567\n",
            "Epoch 2/5\n",
            "313/313 [==============================] - 24s 77ms/step - loss: 0.1616 - accuracy: 0.9543\n",
            "Epoch 3/5\n",
            "313/313 [==============================] - 24s 77ms/step - loss: 0.1156 - accuracy: 0.9649\n",
            "Epoch 4/5\n",
            "313/313 [==============================] - 24s 77ms/step - loss: 0.0918 - accuracy: 0.9722\n",
            "Epoch 5/5\n",
            "313/313 [==============================] - 24s 77ms/step - loss: 0.0683 - accuracy: 0.9792\n"
          ]
        }
      ]
    },
    {
      "cell_type": "markdown",
      "metadata": {
        "id": "hjEIVYQFhSFH"
      },
      "source": [
        "As the model trains, the loss and accuracy metrics are displayed. This model reaches an accuracy of about 97.88% on the training data."
      ]
    },
    {
      "cell_type": "markdown",
      "metadata": {
        "id": "LNUBsuORhUtp"
      },
      "source": [
        "## 5. Evaluate accuracy\n",
        "\n",
        "Next, compare how the model performs on the test dataset:"
      ]
    },
    {
      "cell_type": "code",
      "metadata": {
        "id": "d53BZSpIhT7u",
        "colab": {
          "base_uri": "https://localhost:8080/"
        },
        "outputId": "e3467337-4ae8-4de0-8b80-b67e92ec9438"
      },
      "source": [
        "print(test_images.shape)\n",
        "test_loss, test_acc = model.evaluate(test_images, test_labels)\n",
        "\n",
        "print('Test accuracy:', test_acc)"
      ],
      "execution_count": 31,
      "outputs": [
        {
          "output_type": "stream",
          "name": "stdout",
          "text": [
            "(6000, 28, 28, 1)\n",
            "188/188 [==============================] - 4s 18ms/step - loss: 0.0780 - accuracy: 0.9750\n",
            "Test accuracy: 0.9750000238418579\n"
          ]
        }
      ]
    },
    {
      "cell_type": "markdown",
      "metadata": {
        "id": "4ZgbaSfZhZjG"
      },
      "source": [
        "Often times, the accuracy on the test dataset is a little less than the accuracy on the training dataset. This gap between training accuracy and test accuracy is an example of *overfitting*. "
      ]
    },
    {
      "cell_type": "markdown",
      "metadata": {
        "id": "DG3N7YdEptDd"
      },
      "source": [
        "## 6. Visualize Prediction Results"
      ]
    },
    {
      "cell_type": "markdown",
      "metadata": {
        "id": "sl-P4RB0pwze"
      },
      "source": [
        "Your task is to take one of these images as input and predict the most likely digit contained in the image (along with a relative confidence in this prediction):"
      ]
    },
    {
      "cell_type": "code",
      "metadata": {
        "id": "YqvcI0qspsjd"
      },
      "source": [
        "y_predict = model.predict(test_images)\n",
        "y_predict = np.argmax(y_predict, axis=1)\n"
      ],
      "execution_count": 32,
      "outputs": []
    },
    {
      "cell_type": "markdown",
      "metadata": {
        "id": "NqFajkC685sH"
      },
      "source": [
        "### To get probability "
      ]
    },
    {
      "cell_type": "code",
      "metadata": {
        "id": "XCME0HSB5UK6",
        "colab": {
          "base_uri": "https://localhost:8080/"
        },
        "outputId": "e55f7875-c140-42be-9e28-81388df77eab"
      },
      "source": [
        "y_predict_prob = model.predict(test_images)\n",
        "\n",
        "for n_s, sample in enumerate(y_predict_prob[:6]): #print the first 6 image probability\n",
        "  print('sample: ', n_s)\n",
        "  for n, i in enumerate(sample):\n",
        "    print('probability for label %d: %2.2e' % (n, i))\n",
        "    \n",
        "  print('-----------------------------------')"
      ],
      "execution_count": 43,
      "outputs": [
        {
          "output_type": "stream",
          "name": "stdout",
          "text": [
            "sample:  0\n",
            "probability for label 0: 1.60e-11\n",
            "probability for label 1: 8.08e-11\n",
            "probability for label 2: 3.47e-10\n",
            "probability for label 3: 2.60e-08\n",
            "probability for label 4: 4.40e-14\n",
            "probability for label 5: 4.94e-12\n",
            "probability for label 6: 8.52e-15\n",
            "probability for label 7: 1.00e+00\n",
            "probability for label 8: 1.35e-11\n",
            "probability for label 9: 2.51e-09\n",
            "-----------------------------------\n",
            "sample:  1\n",
            "probability for label 0: 1.97e-07\n",
            "probability for label 1: 7.22e-07\n",
            "probability for label 2: 1.00e+00\n",
            "probability for label 3: 7.72e-08\n",
            "probability for label 4: 1.81e-12\n",
            "probability for label 5: 3.88e-13\n",
            "probability for label 6: 8.59e-09\n",
            "probability for label 7: 4.01e-10\n",
            "probability for label 8: 1.91e-09\n",
            "probability for label 9: 1.77e-12\n",
            "-----------------------------------\n",
            "sample:  2\n",
            "probability for label 0: 2.23e-06\n",
            "probability for label 1: 9.99e-01\n",
            "probability for label 2: 4.32e-04\n",
            "probability for label 3: 6.24e-06\n",
            "probability for label 4: 2.32e-04\n",
            "probability for label 5: 8.53e-06\n",
            "probability for label 6: 2.79e-04\n",
            "probability for label 7: 4.65e-05\n",
            "probability for label 8: 8.33e-05\n",
            "probability for label 9: 7.82e-07\n",
            "-----------------------------------\n",
            "sample:  3\n",
            "probability for label 0: 1.00e+00\n",
            "probability for label 1: 8.16e-10\n",
            "probability for label 2: 2.55e-05\n",
            "probability for label 3: 1.96e-06\n",
            "probability for label 4: 2.52e-10\n",
            "probability for label 5: 4.98e-10\n",
            "probability for label 6: 9.93e-07\n",
            "probability for label 7: 4.31e-07\n",
            "probability for label 8: 3.73e-09\n",
            "probability for label 9: 8.40e-08\n",
            "-----------------------------------\n",
            "sample:  4\n",
            "probability for label 0: 4.35e-08\n",
            "probability for label 1: 6.97e-09\n",
            "probability for label 2: 5.77e-08\n",
            "probability for label 3: 6.42e-08\n",
            "probability for label 4: 1.00e+00\n",
            "probability for label 5: 1.28e-09\n",
            "probability for label 6: 1.61e-08\n",
            "probability for label 7: 3.95e-08\n",
            "probability for label 8: 9.71e-08\n",
            "probability for label 9: 1.32e-04\n",
            "-----------------------------------\n",
            "sample:  5\n",
            "probability for label 0: 2.61e-07\n",
            "probability for label 1: 1.00e+00\n",
            "probability for label 2: 1.14e-05\n",
            "probability for label 3: 8.29e-07\n",
            "probability for label 4: 3.95e-05\n",
            "probability for label 5: 1.18e-06\n",
            "probability for label 6: 9.16e-06\n",
            "probability for label 7: 2.46e-05\n",
            "probability for label 8: 1.45e-05\n",
            "probability for label 9: 1.20e-06\n",
            "-----------------------------------\n"
          ]
        }
      ]
    },
    {
      "cell_type": "markdown",
      "metadata": {
        "id": "jnczeBGtuQ-Y"
      },
      "source": [
        "Display the first 5 images from the *testing set* and display the predicted class name below each image. "
      ]
    },
    {
      "cell_type": "code",
      "metadata": {
        "id": "L05wG51HqUoC",
        "colab": {
          "base_uri": "https://localhost:8080/",
          "height": 141
        },
        "outputId": "34f90b9b-bd20-4387-efd1-d1defccf924c"
      },
      "source": [
        "import random \n",
        "\n",
        "plt.figure(figsize=(10,2))\n",
        "plt.title('Prediction')\n",
        "\n",
        "randomlist = random.sample(range(0, len(test_images)), 5)\n",
        "\n",
        "for i in range(5):\n",
        "    plt.subplot(1,5,i+1)\n",
        "    plt.xticks([])\n",
        "    plt.yticks([])\n",
        "    plt.grid(False)\n",
        "    plt.imshow(test_images[randomlist[i]].reshape(28, 28), cmap=plt.cm.binary)\n",
        "    plt.xlabel(y_predict[randomlist[i]])"
      ],
      "execution_count": 34,
      "outputs": [
        {
          "output_type": "display_data",
          "data": {
            "image/png": "[encoded data removed]",
            "text/plain": [
              "<Figure size 720x144 with 5 Axes>"
            ]
          },
          "metadata": {}
        }
      ]
    },
    {
      "cell_type": "markdown",
      "metadata": {
        "id": "fYB2nPWbkjuj"
      },
      "source": [
        "## Acknowledgements\n",
        "\n",
        "The contents of the Part 2: Classification tutorial is inspired and based on Lex Friedman's [tutorial_deep_learning_basic.ipynb](https://colab.research.google.com/github/lexfridman/mit-deep-learning/blob/master/tutorial_deep_learning_basics/deep_learning_basics.ipynb#scrollTo=IysPmcOBHBE9) "
      ]
    }
  ]
}