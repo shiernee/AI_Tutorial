{
  "nbformat": 4,
  "nbformat_minor": 0,
  "metadata": {
    "colab": {
      "name": "AI_Workshop_Day1.ipynb",
      "provenance": [],
      "collapsed_sections": [],
      "authorship_tag": "ABX9TyMRjht1B4/qR9VplPXzC85+",
      "include_colab_link": true
    },
    "kernelspec": {
      "name": "python3",
      "display_name": "Python 3"
    },
    "language_info": {
      "name": "python"
    }
  },
  "cells": [
    {
      "cell_type": "markdown",
      "metadata": {
        "id": "view-in-github",
        "colab_type": "text"
      },
      "source": [
        "<a href=\"https://colab.research.google.com/github/shiernee/AI_Tutorial/blob/main/AI_Workshop_Day1.ipynb\" target=\"_parent\"><img src=\"https://colab.research.google.com/assets/colab-badge.svg\" alt=\"Open In Colab\"/></a>"
      ]
    },
    {
      "cell_type": "markdown",
      "metadata": {
        "id": "NYqCknH5FxFH"
      },
      "source": [
        "#**Part 1: Google Colab Introductory Workshop**\n",
        "\n",
        "The first part of the workshop will introduce important features in available in Colab. <br>\n",
        "\n",
        "Colab is an interactive coding enviroment to get start to code easily. The code can be executed easily by click the *play* button on the cell. <br>\n",
        "\n",
        "Let's get started.\n"
      ]
    },
    {
      "cell_type": "markdown",
      "metadata": {
        "id": "pkqJlxFeQnm_"
      },
      "source": [
        " **Let's try to print *Hello World***\n"
      ]
    },
    {
      "cell_type": "code",
      "metadata": {
        "id": "eMJTVMqc0G-5"
      },
      "source": [
        "print('Hello World')"
      ],
      "execution_count": null,
      "outputs": []
    },
    {
      "cell_type": "code",
      "metadata": {
        "id": "i7Q_rCkfQAMx"
      },
      "source": [
        "# It's your turn to try. \n",
        "# Print your name. \n",
        "# Type your code below and click the play button to execute the cell. \n",
        "# You should see you name appear.\n"
      ],
      "execution_count": null,
      "outputs": []
    },
    {
      "cell_type": "code",
      "metadata": {
        "id": "lp82b8u0Zs0B",
        "cellView": "form"
      },
      "source": [
        "#@title Solution\n",
        "print('Richard Hunter')"
      ],
      "execution_count": null,
      "outputs": []
    },
    {
      "cell_type": "markdown",
      "metadata": {
        "id": "AVsdInd3RFnl"
      },
      "source": [
        "**Perform Calculation**"
      ]
    },
    {
      "cell_type": "code",
      "metadata": {
        "id": "1r0ciAcJQGon"
      },
      "source": [
        "seconds_in_a_day = 24 * 60 * 60\n",
        "seconds_in_a_day"
      ],
      "execution_count": null,
      "outputs": []
    },
    {
      "cell_type": "code",
      "metadata": {
        "id": "wgX6CDdVRN8e"
      },
      "source": [
        "# It's your turn to try. \n",
        "# Perform calculation of 45 divided by 20 and then multiplies by 8\n",
        "# Type your code below and click the play button to execute the cell. \n",
        "# You should get an answer of 18."
      ],
      "execution_count": null,
      "outputs": []
    },
    {
      "cell_type": "code",
      "metadata": {
        "cellView": "form",
        "id": "7FR9dS9QZzHD"
      },
      "source": [
        "#@title Solution\n",
        "45/20*8"
      ],
      "execution_count": null,
      "outputs": []
    },
    {
      "cell_type": "markdown",
      "metadata": {
        "id": "fJJuwAlYR2nS"
      },
      "source": [
        "**Create a Loop**"
      ]
    },
    {
      "cell_type": "code",
      "metadata": {
        "id": "MEzbZqQ_R7Vf"
      },
      "source": [
        "# Creating a loop \n",
        "# Python always start from zero\n",
        "# range(start, end, step)\n",
        "\n",
        "for i in range(10):\n",
        "  print(i)"
      ],
      "execution_count": null,
      "outputs": []
    },
    {
      "cell_type": "code",
      "metadata": {
        "id": "eWqHuSYnSnO-"
      },
      "source": [
        "# It's your turn to try. \n",
        "# Create a loop to print from 2 to 10 \n",
        "# Type your code below and click the play button to execute the cell. \n",
        "# You should get an answer of 2,3,4,5,6,7,8,9,10.\n"
      ],
      "execution_count": null,
      "outputs": []
    },
    {
      "cell_type": "code",
      "metadata": {
        "cellView": "form",
        "id": "vj_ZAyFNZ5uy"
      },
      "source": [
        "#@title Solution\n",
        "for i in range(2, 11):\n",
        "  print(i)"
      ],
      "execution_count": null,
      "outputs": []
    },
    {
      "cell_type": "code",
      "metadata": {
        "id": "0V9tFHC8SdaJ"
      },
      "source": [
        "# It's your turn to try. \n",
        "# Create a loop to print from 2 to 10, by skipping 2\n",
        "# Type your code below and click the play button to execute the cell. \n",
        "# You should get an answer of 2,4,6,8,10\n"
      ],
      "execution_count": null,
      "outputs": []
    },
    {
      "cell_type": "code",
      "metadata": {
        "cellView": "form",
        "id": "emM39d_IaAGi"
      },
      "source": [
        "#@title Solution\n",
        "for i in range(2, 11, 2):\n",
        "  print(i)"
      ],
      "execution_count": null,
      "outputs": []
    },
    {
      "cell_type": "markdown",
      "metadata": {
        "id": "Rq1nBhD5Tc5m"
      },
      "source": [
        "**Create a list of values**"
      ]
    },
    {
      "cell_type": "code",
      "metadata": {
        "id": "WFVrePErTYOo"
      },
      "source": [
        "# Create a list of value from 0 to 9\n",
        "x = []\n",
        "for i in range(10):\n",
        "  x.append(i)\n",
        "\n",
        "print(x)"
      ],
      "execution_count": null,
      "outputs": []
    },
    {
      "cell_type": "code",
      "metadata": {
        "id": "Il8OmA5FTp8t"
      },
      "source": [
        "# Another compact way to create a list of value\n",
        "x = [x for x in range(10)]\n",
        "print(x) "
      ],
      "execution_count": null,
      "outputs": []
    },
    {
      "cell_type": "code",
      "metadata": {
        "id": "M-UXC5NnT1bj"
      },
      "source": [
        "# It's your turn to try. \n",
        "# Create a list of value ranging from 2 to 10, by skipping 2\n",
        "# Type your code below and click the play button to execute the cell. \n",
        "# Print out the list. You should get [2,4,6,8,10]\n"
      ],
      "execution_count": null,
      "outputs": []
    },
    {
      "cell_type": "code",
      "metadata": {
        "cellView": "form",
        "id": "hcYi1GwYY4WF"
      },
      "source": [
        "#@title Solution\n",
        "\n",
        "x = [x for x in range(2, 11, 2)]\n",
        "print(x) "
      ],
      "execution_count": null,
      "outputs": []
    },
    {
      "cell_type": "markdown",
      "metadata": {
        "id": "wMFa3dc1TLOj"
      },
      "source": [
        "**Graph Visualization**"
      ]
    },
    {
      "cell_type": "code",
      "metadata": {
        "id": "BUftrGNSSF-E"
      },
      "source": [
        "# We need to import packages\n",
        "# numpy for creating array and matplotlib for plotting \n",
        "\n",
        "import numpy as np\n",
        "from matplotlib import pyplot as plt\n",
        "\n",
        "ys = 200 + np.random.randn(100)  # create random numbers with a length of 100\n",
        "x = [x for x in range(len(ys))]\n",
        "x = np.array(x)\n",
        "\n",
        "plt.plot(x, ys, '-')\n",
        "plt.title(\"Sample Visualization\")\n",
        "plt.xlabel('x')\n",
        "plt.ylabel('y')\n",
        "plt.show()"
      ],
      "execution_count": null,
      "outputs": []
    },
    {
      "cell_type": "code",
      "metadata": {
        "id": "7GC05vEsVVxY"
      },
      "source": [
        "# It's your turn to try. \n",
        "# Create a list of x-value ranging from 0 to 500, by skipping 2\n",
        "# Create a list of y-value using the formula y = 5x^2 \n",
        "# square --> **; multiple --> *, divide --> /, plus --> +, minus --> -\n",
        "# Type your code below and click the play button to execute the cell. \n"
      ],
      "execution_count": null,
      "outputs": []
    },
    {
      "cell_type": "code",
      "metadata": {
        "cellView": "form",
        "id": "A57CF73ZZke8"
      },
      "source": [
        "#@title Solution\n",
        "import numpy as np\n",
        "from matplotlib import pyplot as plt\n",
        "\n",
        "ys = 200 + np.random.randn(100)  # create random numbers with a length of 100\n",
        "x = [x for x in range(len(ys))]\n",
        "x = np.array(x)\n",
        "\n",
        "plt.plot(x, ys, '-')\n",
        "plt.title(\"Sample Visualization\")\n",
        "plt.xlabel('x')\n",
        "plt.ylabel('y')\n",
        "plt.show()"
      ],
      "execution_count": null,
      "outputs": []
    },
    {
      "cell_type": "markdown",
      "metadata": {
        "id": "SbR1NOveWwH2"
      },
      "source": [
        "**Uploading files from your local file system** <br>\n",
        "files.upload returns a dictionary of the files which were uploaded. The dictionary is keyed by the file name and values are the data which were uploaded. <br>\n",
        "\n",
        "Refresh the folder in the left panel and you will the dataset you have uploaded. "
      ]
    },
    {
      "cell_type": "code",
      "metadata": {
        "id": "QclwRzIZWvoD"
      },
      "source": [
        "from google.colab import files\n",
        "\n",
        "uploaded = files.upload()\n",
        "\n",
        "for fn in uploaded.keys():\n",
        "  print('User uploaded file \"{name}\" with length {length} bytes'.format(\n",
        "      name=fn, length=len(uploaded[fn])))"
      ],
      "execution_count": null,
      "outputs": []
    },
    {
      "cell_type": "markdown",
      "metadata": {
        "id": "dyOR3xUBcHNY"
      },
      "source": [
        "#**Part 2: Classification of MNIST Dreams with Convolutional Neural Networks**\n",
        "\n",
        "*   List item\n",
        "*   List item\n",
        "\n",
        "\n",
        "\n",
        "Let's go back to powerpoint to understand the concepts. \n",
        "\n"
      ]
    },
    {
      "cell_type": "markdown",
      "metadata": {
        "id": "gu_6xSOmjfn-"
      },
      "source": [
        "Now, we are ready. Let's build a convolutional neural network (CNN) classifier to classify images of handwritten digits in the MNIST dataset with a twist where we test our classifier on high-resolution hand-written digits from outside the dataset."
      ]
    },
    {
      "cell_type": "markdown",
      "metadata": {
        "id": "rux9DMMHgxrC"
      },
      "source": [
        "## 1. Import Data"
      ]
    },
    {
      "cell_type": "code",
      "metadata": {
        "id": "CMxLhrm4c4A5"
      },
      "source": [
        "from sklearn.datasets import fetch_openml\n",
        "\n",
        "mnist = fetch_openml('mnist_784', cache=False)\n",
        "X = mnist.data.astype('float32') # image\n",
        "y = mnist.target.astype('int64')  # label"
      ],
      "execution_count": null,
      "outputs": []
    },
    {
      "cell_type": "code",
      "metadata": {
        "id": "6qiUrN-Eda_f"
      },
      "source": [
        "# randomly view datasets\n",
        "# re-execute the cell to view other datasets\n",
        "import matplotlib.pyplot as plt\n",
        "import numpy as np\n",
        "\n",
        "index = np.random.randint(0,len(X))\n",
        "\n",
        "plt.imshow(X[index].reshape([28, 28]))\n",
        "plt.title(y[index])"
      ],
      "execution_count": null,
      "outputs": []
    },
    {
      "cell_type": "markdown",
      "metadata": {
        "id": "tzHArh21f45A"
      },
      "source": [
        "# 2. Data Splitting\n"
      ]
    },
    {
      "cell_type": "code",
      "metadata": {
        "id": "Xlzg-2kuf4op"
      },
      "source": [
        "import tensorflow as tf\n",
        "from tensorflow import keras\n",
        "from tensorflow.keras.layers import Conv2D, MaxPooling2D, Dropout, Flatten, Dense\n",
        "\n",
        "(train_images_load, train_labels_load), (test_images_load, test_labels_load) = keras.datasets.mnist.load_data()\n",
        "\n",
        "# reshape images to specify that it's a single channel\n",
        "train_images_load = train_images_load.reshape(train_images_load.shape[0], 28, 28, 1)\n",
        "test_images_load = test_images_load.reshape(test_images_load.shape[0], 28, 28, 1)\n",
        "\n",
        "# Takes only the first 6000 training data and 6000 testing data due to limited computational resources\n",
        "\n",
        "no_train = 10000\n",
        "no_test = 6000\n",
        "\n",
        "train_images = train_images_load[:no_train]\n",
        "train_labels = train_labels_load[:no_train]\n",
        "test_images = test_images_load[:no_test]\n",
        "test_labels = test_labels_load[:no_test]\n"
      ],
      "execution_count": null,
      "outputs": []
    },
    {
      "cell_type": "markdown",
      "metadata": {
        "id": "OESq6QzN0NmF"
      },
      "source": [
        "### **Exercise**\n",
        "\n",
        "Check if the number of samples in train and test image are 10,000 and 6,000 respectively"
      ]
    },
    {
      "cell_type": "code",
      "metadata": {
        "id": "R4JTVHWv0BOd"
      },
      "source": [
        "# type your code here\n"
      ],
      "execution_count": null,
      "outputs": []
    },
    {
      "cell_type": "code",
      "metadata": {
        "id": "rk3aZn_z0aBq"
      },
      "source": [
        "#@title Solution\n",
        "print('train_image: ', len(train_images))\n",
        "print('test_images: ', len(test_images))\n"
      ],
      "execution_count": null,
      "outputs": []
    },
    {
      "cell_type": "markdown",
      "metadata": {
        "id": "PGC7L1NFgOQ6"
      },
      "source": [
        "We scale these values to a range of 0 to 1 before feeding to the neural network model. For this, we divide the values by 255. It's important that the *training set* and the *testing set* are preprocessed in the same way:"
      ]
    },
    {
      "cell_type": "code",
      "metadata": {
        "id": "d5Ptl1gIe_YZ"
      },
      "source": [
        "def preprocess_images(imgs): # should work for both a single image and multiple images\n",
        "    sample_img = imgs if len(imgs.shape) == 2 else imgs[0]\n",
        "    assert sample_img.shape in [(28, 28, 1), (28, 28)], sample_img.shape # make sure images are 28x28 and single-channel (grayscale)\n",
        "    return imgs / 255.0\n",
        "\n",
        "train_images = preprocess_images(train_images)\n",
        "test_images = preprocess_images(test_images)"
      ],
      "execution_count": null,
      "outputs": []
    },
    {
      "cell_type": "markdown",
      "metadata": {
        "id": "-nAo0eedgRv1"
      },
      "source": [
        "Display the first 5 images from the *training set* and display the class name below each image. Verify that the data is in the correct format and we're ready to build and train the network."
      ]
    },
    {
      "cell_type": "code",
      "metadata": {
        "id": "4QE7KXL8gTMR"
      },
      "source": [
        "plt.figure(figsize=(10,2))\n",
        "for i in range(5):\n",
        "    plt.subplot(1,5,i+1)\n",
        "    plt.xticks([])\n",
        "    plt.yticks([])\n",
        "    plt.grid(False)\n",
        "    plt.imshow(train_images[i].reshape(28, 28), cmap=plt.cm.binary)\n",
        "    plt.xlabel(train_labels[i])"
      ],
      "execution_count": null,
      "outputs": []
    },
    {
      "cell_type": "markdown",
      "metadata": {
        "id": "Qu_SFcnAg77P"
      },
      "source": [
        "## 3. Build the model\n",
        "\n",
        "Building the neural network requires configuring the layers of the model, then compiling the model. In many cases, this can be reduced to simply stacking together layers:"
      ]
    },
    {
      "cell_type": "code",
      "metadata": {
        "id": "LsPDmpbDhJJ5"
      },
      "source": [
        "model = keras.Sequential()\n",
        "# 32 convolution filters used each of size 3x3\n",
        "model.add(Conv2D(32, kernel_size=(3, 3), activation='relu', input_shape=(28, 28, 1)))\n",
        "# 64 convolution filters used each of size 3x3\n",
        "model.add(Conv2D(64, (3, 3), activation='relu'))\n",
        "# choose the best features via pooling\n",
        "model.add(MaxPooling2D(pool_size=(2, 2)))\n",
        "# randomly turn neurons on and off to improve convergence\n",
        "model.add(Dropout(0.25))\n",
        "# flatten since too many dimensions, we only want a classification output\n",
        "model.add(Flatten())\n",
        "# fully connected to get all relevant data\n",
        "model.add(Dense(128, activation='relu'))\n",
        "# one more dropout\n",
        "model.add(Dropout(0.5))\n",
        "# output a softmax to squash the matrix into output probabilities\n",
        "model.add(Dense(10, activation='softmax'))"
      ],
      "execution_count": null,
      "outputs": []
    },
    {
      "cell_type": "markdown",
      "metadata": {
        "id": "wKYLbPWghLFD"
      },
      "source": [
        "Before the model is ready for training, it needs a few more settings. These are added during the model's *compile* step:\n",
        "\n",
        "* *Loss function* - measures how accurate the model is during training, we want to minimize this with the optimizer.\n",
        "* *Optimizer* - how the model is updated based on the data it sees and its loss function.\n",
        "* *Metrics* - used to monitor the training and testing steps. \"accuracy\" is the fraction of images that are correctly classified."
      ]
    },
    {
      "cell_type": "code",
      "metadata": {
        "id": "cdtSKK5rhMkh"
      },
      "source": [
        "model.compile(optimizer= tf.optimizers.Adam(), \n",
        "              loss='sparse_categorical_crossentropy',\n",
        "              metrics=['accuracy'])"
      ],
      "execution_count": null,
      "outputs": []
    },
    {
      "cell_type": "markdown",
      "metadata": {
        "id": "CdOPTOLUhOMT"
      },
      "source": [
        "## 4. Train the model\n",
        "\n",
        "Training the neural network model requires the following steps:\n",
        "\n",
        "1. Feed the training data to the model—in this example, the `train_images` and `train_labels` arrays.\n",
        "2. The model learns to associate images and labels.\n",
        "3. We ask the model to make predictions about a test set—in this example, the `test_images` array. We verify that the predictions match the labels from the `test_labels` array. \n",
        "\n",
        "To start training,  call the `model.fit` method—the model is \"fit\" to the training data:"
      ]
    },
    {
      "cell_type": "code",
      "metadata": {
        "id": "KvIhWAhihQDH"
      },
      "source": [
        "history = model.fit(train_images, train_labels, epochs=5)"
      ],
      "execution_count": null,
      "outputs": []
    },
    {
      "cell_type": "markdown",
      "metadata": {
        "id": "hjEIVYQFhSFH"
      },
      "source": [
        "As the model trains, the loss and accuracy metrics are displayed. This model reaches an accuracy of about 97.88% on the training data."
      ]
    },
    {
      "cell_type": "markdown",
      "metadata": {
        "id": "LNUBsuORhUtp"
      },
      "source": [
        "## 5. Evaluate accuracy\n",
        "\n",
        "Next, compare how the model performs on the test dataset:"
      ]
    },
    {
      "cell_type": "code",
      "metadata": {
        "id": "d53BZSpIhT7u"
      },
      "source": [
        "print(test_images.shape)\n",
        "test_loss, test_acc = model.evaluate(test_images, test_labels)\n",
        "\n",
        "print('Test accuracy:', test_acc)"
      ],
      "execution_count": null,
      "outputs": []
    },
    {
      "cell_type": "markdown",
      "metadata": {
        "id": "4ZgbaSfZhZjG"
      },
      "source": [
        "Often times, the accuracy on the test dataset is a little less than the accuracy on the training dataset. This gap between training accuracy and test accuracy is an example of *overfitting*. "
      ]
    },
    {
      "cell_type": "markdown",
      "metadata": {
        "id": "DG3N7YdEptDd"
      },
      "source": [
        "## 6. Visualize Prediction Results"
      ]
    },
    {
      "cell_type": "markdown",
      "metadata": {
        "id": "sl-P4RB0pwze"
      },
      "source": [
        "Your task is to take one of these images as input and predict the most likely digit contained in the image (along with a relative confidence in this prediction):"
      ]
    },
    {
      "cell_type": "code",
      "metadata": {
        "id": "YqvcI0qspsjd"
      },
      "source": [
        "y_predict = model.predict(test_images)\n",
        "y_predict = np.argmax(y_predict, axis=1)"
      ],
      "execution_count": null,
      "outputs": []
    },
    {
      "cell_type": "markdown",
      "metadata": {
        "id": "jnczeBGtuQ-Y"
      },
      "source": [
        "Display the first 5 images from the *testing set* and display the predicted class name below each image. "
      ]
    },
    {
      "cell_type": "code",
      "metadata": {
        "id": "L05wG51HqUoC"
      },
      "source": [
        "import random \n",
        "\n",
        "plt.figure(figsize=(10,2))\n",
        "plt.title('Prediction')\n",
        "\n",
        "randomlist = random.sample(range(0, len(test_images)), 5)\n",
        "\n",
        "for i in range(5):\n",
        "    plt.subplot(1,5,i+1)\n",
        "    plt.xticks([])\n",
        "    plt.yticks([])\n",
        "    plt.grid(False)\n",
        "    plt.imshow(test_images[randomlist[i]].reshape(28, 28), cmap=plt.cm.binary)\n",
        "    plt.xlabel(y_predict[randomlist[i]])"
      ],
      "execution_count": null,
      "outputs": []
    },
    {
      "cell_type": "markdown",
      "metadata": {
        "id": "fYB2nPWbkjuj"
      },
      "source": [
        "## Acknowledgements\n",
        "\n",
        "The contents of the Part 2: Classification tutorial is inspired and based on Lex Friedman's [tutorial_deep_learning_basic.ipynb](https://colab.research.google.com/github/lexfridman/mit-deep-learning/blob/master/tutorial_deep_learning_basics/deep_learning_basics.ipynb#scrollTo=IysPmcOBHBE9) "
      ]
    }
  ]
}