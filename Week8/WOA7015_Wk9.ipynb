{
  "cells": [
    {
      "cell_type": "markdown",
      "metadata": {
        "id": "view-in-github",
        "colab_type": "text"
      },
      "source": [
        "<a href=\"https://colab.research.google.com/github/shiernee/AI_Tutorial/blob/main/Week8/WOA7015_Wk9.ipynb\" target=\"_parent\"><img src=\"https://colab.research.google.com/assets/colab-badge.svg\" alt=\"Open In Colab\"/></a>"
      ]
    },
    {
      "cell_type": "markdown",
      "metadata": {
        "id": "KwhKoOIwVMCq"
      },
      "source": [
        "# Welcome to WOA7015 Advance Machine Learning Lab - Week 9\n",
        "This code is generated for the purpose of WOA7015 module.\n",
        "The code is available in github https://github.com/shiernee/Advanced_ML \n"
      ]
    },
    {
      "cell_type": "markdown",
      "source": [
        "# Section1 : Massage Passing\n",
        "In this section, we go through the computation we covered in Massage Passing  "
      ],
      "metadata": {
        "id": "zkCzXXnhU7QI"
      }
    },
    {
      "cell_type": "code",
      "source": [
        "import numpy as np\n",
        "from scipy.linalg import sqrtm \n",
        "from scipy.special import softmax\n",
        "from networkx.algorithms.community.modularity_max import greedy_modularity_communities\n",
        "import matplotlib.pyplot as plt\n",
        "from matplotlib import animation\n",
        "%matplotlib inline\n",
        "from IPython.display import HTML"
      ],
      "metadata": {
        "id": "1uPyrdVzU9-v"
      },
      "execution_count": 14,
      "outputs": []
    },
    {
      "cell_type": "markdown",
      "source": [
        "### create adjacent matrix in slide 56. "
      ],
      "metadata": {
        "id": "R6D2s2E3ZvxB"
      }
    },
    {
      "cell_type": "code",
      "source": [
        "# create adjacent matrix in slide 56\n",
        "A = np.array(\n",
        "    [[0, 1, 0, 0, 0], \n",
        "     [1, 0, 1, 0, 0], \n",
        "     [0, 1, 0, 1, 1], \n",
        "     [0, 0, 1, 0, 0], \n",
        "     [0, 0, 1, 0, 0]]\n",
        ")\n",
        "A"
      ],
      "metadata": {
        "colab": {
          "base_uri": "https://localhost:8080/"
        },
        "id": "ASfQp3a2VRij",
        "outputId": "1fd96db2-0efa-4ee7-d14e-5d073c7d3a80"
      },
      "execution_count": 15,
      "outputs": [
        {
          "output_type": "execute_result",
          "data": {
            "text/plain": [
              "array([[0, 1, 0, 0, 0],\n",
              "       [1, 0, 1, 0, 0],\n",
              "       [0, 1, 0, 1, 1],\n",
              "       [0, 0, 1, 0, 0],\n",
              "       [0, 0, 1, 0, 0]])"
            ]
          },
          "metadata": {},
          "execution_count": 15
        }
      ]
    },
    {
      "cell_type": "code",
      "source": [
        "feats = np.arange(A.shape[0]).reshape((-1,1))+1\n",
        "feats"
      ],
      "metadata": {
        "colab": {
          "base_uri": "https://localhost:8080/"
        },
        "id": "tQYIJr-VU62h",
        "outputId": "bf229722-d669-4d61-e776-feaab5722a89"
      },
      "execution_count": 16,
      "outputs": [
        {
          "output_type": "execute_result",
          "data": {
            "text/plain": [
              "array([[1],\n",
              "       [2],\n",
              "       [3],\n",
              "       [4],\n",
              "       [5]])"
            ]
          },
          "metadata": {},
          "execution_count": 16
        }
      ]
    },
    {
      "cell_type": "code",
      "source": [
        "H = A @ feats\n",
        "H"
      ],
      "metadata": {
        "colab": {
          "base_uri": "https://localhost:8080/"
        },
        "id": "VGat6IsAVbE_",
        "outputId": "ccd4238d-939a-45ee-9d37-3bde44a8a1d6"
      },
      "execution_count": 17,
      "outputs": [
        {
          "output_type": "execute_result",
          "data": {
            "text/plain": [
              "array([[ 2],\n",
              "       [ 4],\n",
              "       [11],\n",
              "       [ 3],\n",
              "       [ 3]])"
            ]
          },
          "metadata": {},
          "execution_count": 17
        }
      ]
    },
    {
      "cell_type": "markdown",
      "source": [
        "Scale neighborhood sum by neighborhood size (i.e. average values)"
      ],
      "metadata": {
        "id": "IhVhOhayVcf7"
      }
    },
    {
      "cell_type": "code",
      "source": [
        "D = np.zeros(A.shape)\n",
        "np.fill_diagonal(D, A.sum(axis=0))\n",
        "D"
      ],
      "metadata": {
        "colab": {
          "base_uri": "https://localhost:8080/"
        },
        "id": "rziwbzPPVdCQ",
        "outputId": "0dd3562a-db44-4ab8-f684-5ea944e8b70c"
      },
      "execution_count": 18,
      "outputs": [
        {
          "output_type": "execute_result",
          "data": {
            "text/plain": [
              "array([[1., 0., 0., 0., 0.],\n",
              "       [0., 2., 0., 0., 0.],\n",
              "       [0., 0., 3., 0., 0.],\n",
              "       [0., 0., 0., 1., 0.],\n",
              "       [0., 0., 0., 0., 1.]])"
            ]
          },
          "metadata": {},
          "execution_count": 18
        }
      ]
    },
    {
      "cell_type": "code",
      "source": [
        "D_inv = np.linalg.inv(D)\n",
        "D_inv"
      ],
      "metadata": {
        "colab": {
          "base_uri": "https://localhost:8080/"
        },
        "id": "EUiJXL2XVfUn",
        "outputId": "c9f308c4-b880-4cbe-8c4f-461c3eb6fa24"
      },
      "execution_count": 19,
      "outputs": [
        {
          "output_type": "execute_result",
          "data": {
            "text/plain": [
              "array([[1.        , 0.        , 0.        , 0.        , 0.        ],\n",
              "       [0.        , 0.5       , 0.        , 0.        , 0.        ],\n",
              "       [0.        , 0.        , 0.33333333, 0.        , 0.        ],\n",
              "       [0.        , 0.        , 0.        , 1.        , 0.        ],\n",
              "       [0.        , 0.        , 0.        , 0.        , 1.        ]])"
            ]
          },
          "metadata": {},
          "execution_count": 19
        }
      ]
    },
    {
      "cell_type": "code",
      "source": [
        "D_inv @ A "
      ],
      "metadata": {
        "colab": {
          "base_uri": "https://localhost:8080/"
        },
        "id": "aH-Lz5A3VgoZ",
        "outputId": "7ea8ddd1-6fed-4293-b138-351b7177b0ea"
      },
      "execution_count": 20,
      "outputs": [
        {
          "output_type": "execute_result",
          "data": {
            "text/plain": [
              "array([[0.        , 1.        , 0.        , 0.        , 0.        ],\n",
              "       [0.5       , 0.        , 0.5       , 0.        , 0.        ],\n",
              "       [0.        , 0.33333333, 0.        , 0.33333333, 0.33333333],\n",
              "       [0.        , 0.        , 1.        , 0.        , 0.        ],\n",
              "       [0.        , 0.        , 1.        , 0.        , 0.        ]])"
            ]
          },
          "metadata": {},
          "execution_count": 20
        }
      ]
    },
    {
      "cell_type": "code",
      "source": [
        "H_avg = D_inv @ A @ feats\n",
        "H_avg"
      ],
      "metadata": {
        "colab": {
          "base_uri": "https://localhost:8080/"
        },
        "id": "bG5iWntgVh3_",
        "outputId": "01495c27-25e9-43f3-946e-50305505e9b1"
      },
      "execution_count": 21,
      "outputs": [
        {
          "output_type": "execute_result",
          "data": {
            "text/plain": [
              "array([[2.        ],\n",
              "       [2.        ],\n",
              "       [3.66666667],\n",
              "       [3.        ],\n",
              "       [3.        ]])"
            ]
          },
          "metadata": {},
          "execution_count": 21
        }
      ]
    },
    {
      "cell_type": "markdown",
      "source": [
        "Normalized Adjacency Matrix"
      ],
      "metadata": {
        "id": "AofLq5plVjJG"
      }
    },
    {
      "cell_type": "code",
      "source": [
        "import networkx as nx\n",
        "# create a network based on matrix A\n",
        "g = nx.from_numpy_array(A)\n"
      ],
      "metadata": {
        "id": "zC47dOq-Vjkx"
      },
      "execution_count": 23,
      "outputs": []
    },
    {
      "cell_type": "code",
      "source": [
        "# create A_mod = A + identify matrix\n",
        "print(g.number_of_nodes())\n",
        "print()\n",
        "print(np.eye(g.number_of_nodes()))\n",
        "print()\n",
        "A_tilda = A + np.eye(g.number_of_nodes())\n",
        "\n",
        "print(A_tilda)"
      ],
      "metadata": {
        "colab": {
          "base_uri": "https://localhost:8080/"
        },
        "id": "R2_MOk8oVmIB",
        "outputId": "53e8826e-10ef-4570-ba82-1724cc816539"
      },
      "execution_count": 33,
      "outputs": [
        {
          "output_type": "stream",
          "name": "stdout",
          "text": [
            "5\n",
            "\n",
            "[[1. 0. 0. 0. 0.]\n",
            " [0. 1. 0. 0. 0.]\n",
            " [0. 0. 1. 0. 0.]\n",
            " [0. 0. 0. 1. 0.]\n",
            " [0. 0. 0. 0. 1.]]\n",
            "\n",
            "[[1. 1. 0. 0. 0.]\n",
            " [1. 1. 1. 0. 0.]\n",
            " [0. 1. 1. 1. 1.]\n",
            " [0. 0. 1. 1. 0.]\n",
            " [0. 0. 1. 0. 1.]]\n"
          ]
        }
      ]
    },
    {
      "cell_type": "code",
      "source": [
        "# D_tilda for A_tilda:\n",
        "D_tilda = np.zeros_like(A_tilda)\n",
        "np.fill_diagonal(D_tilda, A_tilda.sum(axis=1).flatten())\n",
        "print(D_tilda)\n",
        "print()\n",
        "\n",
        "# Inverse square root of D:\n",
        "D_tilda_invroot = np.linalg.inv(sqrtm(D_tilda))\n",
        "print(D_tilda_invroot)"
      ],
      "metadata": {
        "colab": {
          "base_uri": "https://localhost:8080/"
        },
        "id": "4tbIfMkNWv8u",
        "outputId": "163ac603-c9f6-4eca-a4b6-832d03d8ca1d"
      },
      "execution_count": 34,
      "outputs": [
        {
          "output_type": "stream",
          "name": "stdout",
          "text": [
            "[[2. 0. 0. 0. 0.]\n",
            " [0. 3. 0. 0. 0.]\n",
            " [0. 0. 4. 0. 0.]\n",
            " [0. 0. 0. 2. 0.]\n",
            " [0. 0. 0. 0. 2.]]\n",
            "\n",
            "[[0.70710678 0.         0.         0.         0.        ]\n",
            " [0.         0.57735027 0.         0.         0.        ]\n",
            " [0.         0.         0.5        0.         0.        ]\n",
            " [0.         0.         0.         0.70710678 0.        ]\n",
            " [0.         0.         0.         0.         0.70710678]]\n"
          ]
        }
      ]
    },
    {
      "cell_type": "code",
      "source": [
        "node_labels = {i: i+1 for i in range(g.number_of_nodes())}\n",
        "pos = nx.planar_layout(g)"
      ],
      "metadata": {
        "id": "qcJ2FvHsXjc4"
      },
      "execution_count": 35,
      "outputs": []
    },
    {
      "cell_type": "code",
      "source": [
        "fig, ax = plt.subplots(figsize=(10,10))\n",
        "nx.draw(\n",
        "    g, pos, with_labels=True, \n",
        "    labels=node_labels, \n",
        "    node_color='#83C167', \n",
        "    ax=ax, edge_color='gray', node_size=1500, font_size=30, font_family='serif'\n",
        ")\n",
        "plt.savefig('simple_graph.png', bbox_inches='tight', transparent=True)"
      ],
      "metadata": {
        "colab": {
          "base_uri": "https://localhost:8080/",
          "height": 575
        },
        "id": "cgIuw4w9XmZB",
        "outputId": "651df4f8-ce03-4adf-bcfe-353d92aa0c92"
      },
      "execution_count": 36,
      "outputs": [
        {
          "output_type": "display_data",
          "data": {
            "image/png": "[encoded data removed]",
            "text/plain": [
              "<Figure size 720x720 with 1 Axes>"
            ]
          },
          "metadata": {}
        }
      ]
    },
    {
      "cell_type": "markdown",
      "source": [
        "# Now is your turn. \n",
        "Try to generate the following graph. \n",
        "\n"
      ],
      "metadata": {
        "id": "zwFp0JmxXqX9"
      }
    },
    {
      "cell_type": "code",
      "execution_count": null,
      "metadata": {
        "id": "42H4aU_ZU_Mi"
      },
      "outputs": [],
      "source": [
        "https://github.com/danielegrattarola/spektral/blob/master/examples/other/graph_signal_classification_mnist.py"
      ]
    },
    {
      "cell_type": "code",
      "execution_count": 1,
      "metadata": {
        "id": "4UgoRqNTWFmi",
        "colab": {
          "base_uri": "https://localhost:8080/"
        },
        "outputId": "d979eb30-ec66-40fd-f995-4834273819d1"
      },
      "outputs": [
        {
          "output_type": "stream",
          "name": "stdout",
          "text": [
            "Collecting git+https://github.com/danielegrattarola/spektral\n",
            "  Cloning https://github.com/danielegrattarola/spektral to /tmp/pip-req-build-x1921o1n\n",
            "  Running command git clone -q https://github.com/danielegrattarola/spektral /tmp/pip-req-build-x1921o1n\n",
            "Requirement already satisfied: joblib in /usr/local/lib/python3.7/dist-packages (from spektral==1.0.8) (1.1.0)\n",
            "Requirement already satisfied: lxml in /usr/local/lib/python3.7/dist-packages (from spektral==1.0.8) (4.2.6)\n",
            "Requirement already satisfied: networkx in /usr/local/lib/python3.7/dist-packages (from spektral==1.0.8) (2.6.3)\n",
            "Requirement already satisfied: numpy<1.20 in /usr/local/lib/python3.7/dist-packages (from spektral==1.0.8) (1.19.5)\n",
            "Requirement already satisfied: pandas in /usr/local/lib/python3.7/dist-packages (from spektral==1.0.8) (1.1.5)\n",
            "Requirement already satisfied: requests in /usr/local/lib/python3.7/dist-packages (from spektral==1.0.8) (2.23.0)\n",
            "Requirement already satisfied: scikit-learn in /usr/local/lib/python3.7/dist-packages (from spektral==1.0.8) (1.0.1)\n",
            "Requirement already satisfied: scipy in /usr/local/lib/python3.7/dist-packages (from spektral==1.0.8) (1.4.1)\n",
            "Requirement already satisfied: tensorflow>=2.1.0 in /usr/local/lib/python3.7/dist-packages (from spektral==1.0.8) (2.7.0)\n",
            "Requirement already satisfied: tqdm in /usr/local/lib/python3.7/dist-packages (from spektral==1.0.8) (4.62.3)\n",
            "Requirement already satisfied: gast<0.5.0,>=0.2.1 in /usr/local/lib/python3.7/dist-packages (from tensorflow>=2.1.0->spektral==1.0.8) (0.4.0)\n",
            "Requirement already satisfied: flatbuffers<3.0,>=1.12 in /usr/local/lib/python3.7/dist-packages (from tensorflow>=2.1.0->spektral==1.0.8) (2.0)\n",
            "Requirement already satisfied: six>=1.12.0 in /usr/local/lib/python3.7/dist-packages (from tensorflow>=2.1.0->spektral==1.0.8) (1.15.0)\n",
            "Requirement already satisfied: keras-preprocessing>=1.1.1 in /usr/local/lib/python3.7/dist-packages (from tensorflow>=2.1.0->spektral==1.0.8) (1.1.2)\n",
            "Requirement already satisfied: opt-einsum>=2.3.2 in /usr/local/lib/python3.7/dist-packages (from tensorflow>=2.1.0->spektral==1.0.8) (3.3.0)\n",
            "Requirement already satisfied: wheel<1.0,>=0.32.0 in /usr/local/lib/python3.7/dist-packages (from tensorflow>=2.1.0->spektral==1.0.8) (0.37.0)\n",
            "Requirement already satisfied: absl-py>=0.4.0 in /usr/local/lib/python3.7/dist-packages (from tensorflow>=2.1.0->spektral==1.0.8) (0.12.0)\n",
            "Requirement already satisfied: protobuf>=3.9.2 in /usr/local/lib/python3.7/dist-packages (from tensorflow>=2.1.0->spektral==1.0.8) (3.17.3)\n",
            "Requirement already satisfied: tensorflow-io-gcs-filesystem>=0.21.0 in /usr/local/lib/python3.7/dist-packages (from tensorflow>=2.1.0->spektral==1.0.8) (0.22.0)\n",
            "Requirement already satisfied: tensorflow-estimator<2.8,~=2.7.0rc0 in /usr/local/lib/python3.7/dist-packages (from tensorflow>=2.1.0->spektral==1.0.8) (2.7.0)\n",
            "Requirement already satisfied: grpcio<2.0,>=1.24.3 in /usr/local/lib/python3.7/dist-packages (from tensorflow>=2.1.0->spektral==1.0.8) (1.42.0)\n",
            "Requirement already satisfied: termcolor>=1.1.0 in /usr/local/lib/python3.7/dist-packages (from tensorflow>=2.1.0->spektral==1.0.8) (1.1.0)\n",
            "Requirement already satisfied: tensorboard~=2.6 in /usr/local/lib/python3.7/dist-packages (from tensorflow>=2.1.0->spektral==1.0.8) (2.7.0)\n",
            "Requirement already satisfied: libclang>=9.0.1 in /usr/local/lib/python3.7/dist-packages (from tensorflow>=2.1.0->spektral==1.0.8) (12.0.0)\n",
            "Requirement already satisfied: astunparse>=1.6.0 in /usr/local/lib/python3.7/dist-packages (from tensorflow>=2.1.0->spektral==1.0.8) (1.6.3)\n",
            "Requirement already satisfied: keras<2.8,>=2.7.0rc0 in /usr/local/lib/python3.7/dist-packages (from tensorflow>=2.1.0->spektral==1.0.8) (2.7.0)\n",
            "Requirement already satisfied: typing-extensions>=3.6.6 in /usr/local/lib/python3.7/dist-packages (from tensorflow>=2.1.0->spektral==1.0.8) (3.10.0.2)\n",
            "Requirement already satisfied: google-pasta>=0.1.1 in /usr/local/lib/python3.7/dist-packages (from tensorflow>=2.1.0->spektral==1.0.8) (0.2.0)\n",
            "Requirement already satisfied: h5py>=2.9.0 in /usr/local/lib/python3.7/dist-packages (from tensorflow>=2.1.0->spektral==1.0.8) (3.1.0)\n",
            "Requirement already satisfied: wrapt>=1.11.0 in /usr/local/lib/python3.7/dist-packages (from tensorflow>=2.1.0->spektral==1.0.8) (1.13.3)\n",
            "Requirement already satisfied: cached-property in /usr/local/lib/python3.7/dist-packages (from h5py>=2.9.0->tensorflow>=2.1.0->spektral==1.0.8) (1.5.2)\n",
            "Requirement already satisfied: google-auth-oauthlib<0.5,>=0.4.1 in /usr/local/lib/python3.7/dist-packages (from tensorboard~=2.6->tensorflow>=2.1.0->spektral==1.0.8) (0.4.6)\n",
            "Requirement already satisfied: werkzeug>=0.11.15 in /usr/local/lib/python3.7/dist-packages (from tensorboard~=2.6->tensorflow>=2.1.0->spektral==1.0.8) (1.0.1)\n",
            "Requirement already satisfied: tensorboard-data-server<0.7.0,>=0.6.0 in /usr/local/lib/python3.7/dist-packages (from tensorboard~=2.6->tensorflow>=2.1.0->spektral==1.0.8) (0.6.1)\n",
            "Requirement already satisfied: markdown>=2.6.8 in /usr/local/lib/python3.7/dist-packages (from tensorboard~=2.6->tensorflow>=2.1.0->spektral==1.0.8) (3.3.6)\n",
            "Requirement already satisfied: tensorboard-plugin-wit>=1.6.0 in /usr/local/lib/python3.7/dist-packages (from tensorboard~=2.6->tensorflow>=2.1.0->spektral==1.0.8) (1.8.0)\n",
            "Requirement already satisfied: setuptools>=41.0.0 in /usr/local/lib/python3.7/dist-packages (from tensorboard~=2.6->tensorflow>=2.1.0->spektral==1.0.8) (57.4.0)\n",
            "Requirement already satisfied: google-auth<3,>=1.6.3 in /usr/local/lib/python3.7/dist-packages (from tensorboard~=2.6->tensorflow>=2.1.0->spektral==1.0.8) (1.35.0)\n",
            "Requirement already satisfied: rsa<5,>=3.1.4 in /usr/local/lib/python3.7/dist-packages (from google-auth<3,>=1.6.3->tensorboard~=2.6->tensorflow>=2.1.0->spektral==1.0.8) (4.8)\n",
            "Requirement already satisfied: pyasn1-modules>=0.2.1 in /usr/local/lib/python3.7/dist-packages (from google-auth<3,>=1.6.3->tensorboard~=2.6->tensorflow>=2.1.0->spektral==1.0.8) (0.2.8)\n",
            "Requirement already satisfied: cachetools<5.0,>=2.0.0 in /usr/local/lib/python3.7/dist-packages (from google-auth<3,>=1.6.3->tensorboard~=2.6->tensorflow>=2.1.0->spektral==1.0.8) (4.2.4)\n",
            "Requirement already satisfied: requests-oauthlib>=0.7.0 in /usr/local/lib/python3.7/dist-packages (from google-auth-oauthlib<0.5,>=0.4.1->tensorboard~=2.6->tensorflow>=2.1.0->spektral==1.0.8) (1.3.0)\n",
            "Requirement already satisfied: importlib-metadata>=4.4 in /usr/local/lib/python3.7/dist-packages (from markdown>=2.6.8->tensorboard~=2.6->tensorflow>=2.1.0->spektral==1.0.8) (4.8.2)\n",
            "Requirement already satisfied: zipp>=0.5 in /usr/local/lib/python3.7/dist-packages (from importlib-metadata>=4.4->markdown>=2.6.8->tensorboard~=2.6->tensorflow>=2.1.0->spektral==1.0.8) (3.6.0)\n",
            "Requirement already satisfied: pyasn1<0.5.0,>=0.4.6 in /usr/local/lib/python3.7/dist-packages (from pyasn1-modules>=0.2.1->google-auth<3,>=1.6.3->tensorboard~=2.6->tensorflow>=2.1.0->spektral==1.0.8) (0.4.8)\n",
            "Requirement already satisfied: chardet<4,>=3.0.2 in /usr/local/lib/python3.7/dist-packages (from requests->spektral==1.0.8) (3.0.4)\n",
            "Requirement already satisfied: urllib3!=1.25.0,!=1.25.1,<1.26,>=1.21.1 in /usr/local/lib/python3.7/dist-packages (from requests->spektral==1.0.8) (1.24.3)\n",
            "Requirement already satisfied: idna<3,>=2.5 in /usr/local/lib/python3.7/dist-packages (from requests->spektral==1.0.8) (2.10)\n",
            "Requirement already satisfied: certifi>=2017.4.17 in /usr/local/lib/python3.7/dist-packages (from requests->spektral==1.0.8) (2021.10.8)\n",
            "Requirement already satisfied: oauthlib>=3.0.0 in /usr/local/lib/python3.7/dist-packages (from requests-oauthlib>=0.7.0->google-auth-oauthlib<0.5,>=0.4.1->tensorboard~=2.6->tensorflow>=2.1.0->spektral==1.0.8) (3.1.1)\n",
            "Requirement already satisfied: python-dateutil>=2.7.3 in /usr/local/lib/python3.7/dist-packages (from pandas->spektral==1.0.8) (2.8.2)\n",
            "Requirement already satisfied: pytz>=2017.2 in /usr/local/lib/python3.7/dist-packages (from pandas->spektral==1.0.8) (2018.9)\n",
            "Requirement already satisfied: threadpoolctl>=2.0.0 in /usr/local/lib/python3.7/dist-packages (from scikit-learn->spektral==1.0.8) (3.0.0)\n",
            "Building wheels for collected packages: spektral\n",
            "  Building wheel for spektral (setup.py) ... \u001b[?25l\u001b[?25hdone\n",
            "  Created wheel for spektral: filename=spektral-1.0.8-py3-none-any.whl size=123386 sha256=21d9d1f3001b686bf8ad912f0b12becf80d949b00965fabbdbac46a6180bb3b2\n",
            "  Stored in directory: /tmp/pip-ephem-wheel-cache-n373m46l/wheels/af/7c/1f/e06aba9c0f493bb708968b8b396fe7523fdfb1c1c0818730be\n",
            "Successfully built spektral\n",
            "Installing collected packages: spektral\n",
            "Successfully installed spektral-1.0.8\n"
          ]
        }
      ],
      "source": [
        "!pip install git+https://github.com/danielegrattarola/spektral"
      ]
    },
    {
      "cell_type": "code",
      "source": [
        "import numpy as np\n",
        "import tensorflow as tf\n",
        "from tensorflow.keras import Model\n",
        "from tensorflow.keras.layers import Dense\n",
        "from tensorflow.keras.losses import SparseCategoricalCrossentropy\n",
        "from tensorflow.keras.metrics import sparse_categorical_accuracy\n",
        "from tensorflow.keras.optimizers import Adam\n",
        "from tensorflow.keras.regularizers import l2\n",
        "\n",
        "from spektral.data import MixedLoader\n",
        "from spektral.datasets.mnist import MNIST\n",
        "from spektral.layers import GCNConv, GlobalSumPool\n",
        "from spektral.utils.sparse import sp_matrix_to_sp_tensor"
      ],
      "metadata": {
        "id": "WuwQOhZI7cd9"
      },
      "execution_count": 2,
      "outputs": []
    },
    {
      "cell_type": "code",
      "source": [
        "# Parameters\n",
        "batch_size = 32  # Batch size\n",
        "epochs = 1000  # Number of training epochs\n",
        "patience = 10  # Patience for early stopping\n",
        "l2_reg = 5e-4  # Regularization rate for l2\n"
      ],
      "metadata": {
        "id": "8XFq4cNO7fwj"
      },
      "execution_count": 3,
      "outputs": []
    },
    {
      "cell_type": "code",
      "source": [
        "# Load data\n",
        "data = MNIST()\n",
        "\n",
        "# The adjacency matrix is stored as an attribute of the dataset.\n",
        "# Create filter for GCN and convert to sparse tensor.\n",
        "data.a = GCNConv.preprocess(data.a)\n",
        "data.a = sp_matrix_to_sp_tensor(data.a)\n"
      ],
      "metadata": {
        "colab": {
          "base_uri": "https://localhost:8080/"
        },
        "id": "LBpizoTJUKdo",
        "outputId": "42ef2e64-d505-4f7c-d1c4-c4db65f91bbf"
      },
      "execution_count": 4,
      "outputs": [
        {
          "output_type": "stream",
          "name": "stdout",
          "text": [
            "Downloading data from https://storage.googleapis.com/tensorflow/tf-keras-datasets/mnist.npz\n",
            "11493376/11490434 [==============================] - 0s 0us/step\n",
            "11501568/11490434 [==============================] - 0s 0us/step\n"
          ]
        }
      ]
    },
    {
      "cell_type": "code",
      "source": [
        "print(data.a)"
      ],
      "metadata": {
        "colab": {
          "base_uri": "https://localhost:8080/",
          "height": 165
        },
        "id": "9KwptKucUX6X",
        "outputId": "c3483971-c6f0-4287-a762-aef346373c34"
      },
      "execution_count": 13,
      "outputs": [
        {
          "output_type": "error",
          "ename": "TypeError",
          "evalue": "ignored",
          "traceback": [
            "\u001b[0;31m---------------------------------------------------------------------------\u001b[0m",
            "\u001b[0;31mTypeError\u001b[0m                                 Traceback (most recent call last)",
            "\u001b[0;32m<ipython-input-13-bec826fcae8a>\u001b[0m in \u001b[0;36m<module>\u001b[0;34m()\u001b[0m\n\u001b[0;32m----> 1\u001b[0;31m \u001b[0mprint\u001b[0m\u001b[0;34m(\u001b[0m\u001b[0mdata\u001b[0m\u001b[0;34m.\u001b[0m\u001b[0ma\u001b[0m\u001b[0;34m[\u001b[0m\u001b[0;36m0\u001b[0m\u001b[0;34m]\u001b[0m\u001b[0;34m)\u001b[0m\u001b[0;34m\u001b[0m\u001b[0;34m\u001b[0m\u001b[0m\n\u001b[0m",
            "\u001b[0;31mTypeError\u001b[0m: 'SparseTensor' object is not subscriptable"
          ]
        }
      ]
    },
    {
      "cell_type": "code",
      "source": [
        "# Train/valid/test split\n",
        "data_tr, data_te = data[:-10000], data[-10000:]\n",
        "np.random.shuffle(data_tr)\n",
        "data_tr, data_va = data_tr[:-10000], data_tr[-10000:]"
      ],
      "metadata": {
        "id": "0xcW2ilzUNw3"
      },
      "execution_count": null,
      "outputs": []
    },
    {
      "cell_type": "code",
      "source": [
        "# We use a MixedLoader since the dataset is in mixed mode\n",
        "loader_tr = MixedLoader(data_tr, batch_size=batch_size, epochs=epochs)\n",
        "loader_va = MixedLoader(data_va, batch_size=batch_size)\n",
        "loader_te = MixedLoader(data_te, batch_size=batch_size)\n"
      ],
      "metadata": {
        "id": "FN9t2CNHUPgN"
      },
      "execution_count": null,
      "outputs": []
    },
    {
      "cell_type": "code",
      "source": [
        "# Build model\n",
        "class Net(Model):\n",
        "    def __init__(self, **kwargs):\n",
        "        super().__init__(**kwargs)\n",
        "        self.conv1 = GCNConv(32, activation=\"elu\", kernel_regularizer=l2(l2_reg))\n",
        "        self.conv2 = GCNConv(32, activation=\"elu\", kernel_regularizer=l2(l2_reg))\n",
        "        self.flatten = GlobalSumPool()\n",
        "        self.fc1 = Dense(512, activation=\"relu\")\n",
        "        self.fc2 = Dense(10, activation=\"softmax\")  # MNIST has 10 classes\n",
        "\n",
        "    def call(self, inputs):\n",
        "        x, a = inputs\n",
        "        x = self.conv1([x, a])\n",
        "        x = self.conv2([x, a])\n",
        "        output = self.flatten(x)\n",
        "        output = self.fc1(output)\n",
        "        output = self.fc2(output)\n",
        "\n",
        "        return output\n",
        "\n",
        "\n",
        "# Create model\n",
        "model = Net()\n",
        "optimizer = Adam()\n",
        "loss_fn = SparseCategoricalCrossentropy()"
      ],
      "metadata": {
        "id": "36v7_SmPUSof"
      },
      "execution_count": null,
      "outputs": []
    },
    {
      "cell_type": "code",
      "source": [
        "# Training function\n",
        "@tf.function\n",
        "def train_on_batch(inputs, target):\n",
        "    with tf.GradientTape() as tape:\n",
        "        predictions = model(inputs, training=True)\n",
        "        loss = loss_fn(target, predictions) + sum(model.losses)\n",
        "        acc = tf.reduce_mean(sparse_categorical_accuracy(target, predictions))\n",
        "\n",
        "    gradients = tape.gradient(loss, model.trainable_variables)\n",
        "    optimizer.apply_gradients(zip(gradients, model.trainable_variables))\n",
        "    return loss, acc\n",
        "\n",
        "\n",
        "# Evaluation function\n",
        "def evaluate(loader):\n",
        "    step = 0\n",
        "    results = []\n",
        "    for batch in loader:\n",
        "        step += 1\n",
        "        inputs, target = batch\n",
        "        predictions = model(inputs, training=False)\n",
        "        loss = loss_fn(target, predictions)\n",
        "        acc = tf.reduce_mean(sparse_categorical_accuracy(target, predictions))\n",
        "        results.append((loss, acc, len(target)))  # Keep track of batch size\n",
        "        if step == loader.steps_per_epoch:\n",
        "            results = np.array(results)\n",
        "            return np.average(results[:, :-1], 0, weights=results[:, -1])\n"
      ],
      "metadata": {
        "id": "WL999fj3UU6Q"
      },
      "execution_count": null,
      "outputs": []
    },
    {
      "cell_type": "code",
      "execution_count": null,
      "metadata": {
        "colab": {
          "background_save": true,
          "base_uri": "https://localhost:8080/"
        },
        "id": "4Uk7zyksYFtq",
        "outputId": "fdb41084-881e-46ae-9162-888206e0850c"
      },
      "outputs": [
        {
          "name": "stdout",
          "output_type": "stream",
          "text": [
            "Train loss: 2.1471, acc: 0.2214 | Valid loss: 2.0697, acc: 0.2481 | Test loss: 2.0633, acc: 0.2490\n",
            "Train loss: 1.9853, acc: 0.2589 | Valid loss: 1.8659, acc: 0.2967 | Test loss: 1.8524, acc: 0.2912\n",
            "Train loss: 1.8527, acc: 0.2969 | Valid loss: 1.8273, acc: 0.3116 | Test loss: 1.8141, acc: 0.3030\n",
            "Train loss: 1.8278, acc: 0.3091 | Valid loss: 1.8236, acc: 0.3034 | Test loss: 1.8180, acc: 0.3049\n",
            "Train loss: 1.8174, acc: 0.3118 | Valid loss: 1.7939, acc: 0.3209 | Test loss: 1.7765, acc: 0.3220\n",
            "Train loss: 1.8121, acc: 0.3138 | Valid loss: 1.8060, acc: 0.3151 | Test loss: 1.7765, acc: 0.3220\n",
            "Train loss: 1.8051, acc: 0.3149 | Valid loss: 1.7860, acc: 0.3219 | Test loss: 1.7773, acc: 0.3193\n",
            "Train loss: 1.8035, acc: 0.3144 | Valid loss: 1.7866, acc: 0.3238 | Test loss: 1.7773, acc: 0.3193\n",
            "Train loss: 1.8011, acc: 0.3159 | Valid loss: 1.7799, acc: 0.3223 | Test loss: 1.7755, acc: 0.3162\n",
            "Train loss: 1.8011, acc: 0.3168 | Valid loss: 1.7826, acc: 0.3193 | Test loss: 1.7755, acc: 0.3162\n",
            "Train loss: 1.8002, acc: 0.3162 | Valid loss: 1.7917, acc: 0.3217 | Test loss: 1.7755, acc: 0.3162\n",
            "Train loss: 1.7959, acc: 0.3187 | Valid loss: 1.7798, acc: 0.3232 | Test loss: 1.7708, acc: 0.3196\n",
            "Train loss: 1.7945, acc: 0.3163 | Valid loss: 1.7800, acc: 0.3257 | Test loss: 1.7708, acc: 0.3196\n",
            "Train loss: 1.7954, acc: 0.3167 | Valid loss: 1.8620, acc: 0.3004 | Test loss: 1.7708, acc: 0.3196\n",
            "Train loss: 1.7957, acc: 0.3167 | Valid loss: 1.7827, acc: 0.3242 | Test loss: 1.7708, acc: 0.3196\n",
            "Train loss: 1.7967, acc: 0.3162 | Valid loss: 1.7778, acc: 0.3281 | Test loss: 1.7661, acc: 0.3221\n",
            "Train loss: 1.7904, acc: 0.3181 | Valid loss: 1.8089, acc: 0.3122 | Test loss: 1.7661, acc: 0.3221\n",
            "Train loss: 1.7924, acc: 0.3172 | Valid loss: 1.7765, acc: 0.3264 | Test loss: 1.7675, acc: 0.3202\n",
            "Train loss: 1.7930, acc: 0.3172 | Valid loss: 1.7717, acc: 0.3247 | Test loss: 1.7678, acc: 0.3192\n",
            "Train loss: 1.7907, acc: 0.3203 | Valid loss: 1.7883, acc: 0.3187 | Test loss: 1.7678, acc: 0.3192\n",
            "Train loss: 1.7907, acc: 0.3192 | Valid loss: 1.8355, acc: 0.2976 | Test loss: 1.7678, acc: 0.3192\n",
            "Train loss: 1.7938, acc: 0.3165 | Valid loss: 1.8062, acc: 0.3139 | Test loss: 1.7678, acc: 0.3192\n",
            "Train loss: 1.7947, acc: 0.3169 | Valid loss: 1.8136, acc: 0.3166 | Test loss: 1.7678, acc: 0.3192\n",
            "Train loss: 1.7919, acc: 0.3186 | Valid loss: 1.7829, acc: 0.3197 | Test loss: 1.7678, acc: 0.3192\n",
            "Train loss: 1.7913, acc: 0.3188 | Valid loss: 1.7827, acc: 0.3196 | Test loss: 1.7678, acc: 0.3192\n",
            "Train loss: 1.7905, acc: 0.3171 | Valid loss: 1.7856, acc: 0.3181 | Test loss: 1.7678, acc: 0.3192\n",
            "Train loss: 1.7906, acc: 0.3176 | Valid loss: 1.7946, acc: 0.3180 | Test loss: 1.7678, acc: 0.3192\n",
            "Train loss: 1.7895, acc: 0.3187 | Valid loss: 1.7901, acc: 0.3179 | Test loss: 1.7678, acc: 0.3192\n",
            "Early stopping\n"
          ]
        }
      ],
      "source": [
        "# Setup training\n",
        "best_val_loss = 99999\n",
        "current_patience = patience\n",
        "step = 0\n",
        "\n",
        "# Training loop\n",
        "results_tr = []\n",
        "for batch in loader_tr:\n",
        "    step += 1\n",
        "\n",
        "    # Training step\n",
        "    inputs, target = batch\n",
        "    loss, acc = train_on_batch(inputs, target)\n",
        "    results_tr.append((loss, acc, len(target)))\n",
        "\n",
        "    if step == loader_tr.steps_per_epoch:\n",
        "        results_va = evaluate(loader_va)\n",
        "        if results_va[0] < best_val_loss:\n",
        "            best_val_loss = results_va[0]\n",
        "            current_patience = patience\n",
        "            results_te = evaluate(loader_te)\n",
        "        else:\n",
        "            current_patience -= 1\n",
        "            if current_patience == 0:\n",
        "                print(\"Early stopping\")\n",
        "                break\n",
        "\n",
        "        # Print results\n",
        "        results_tr = np.array(results_tr)\n",
        "        results_tr = np.average(results_tr[:, :-1], 0, weights=results_tr[:, -1])\n",
        "        print(\n",
        "            \"Train loss: {:.4f}, acc: {:.4f} | \"\n",
        "            \"Valid loss: {:.4f}, acc: {:.4f} | \"\n",
        "            \"Test loss: {:.4f}, acc: {:.4f}\".format(\n",
        "                *results_tr, *results_va, *results_te\n",
        "            )\n",
        "        )\n",
        "\n",
        "        # Reset epoch\n",
        "        results_tr = []\n",
        "        step = 0"
      ]
    },
    {
      "cell_type": "code",
      "source": [
        ""
      ],
      "metadata": {
        "id": "_ob8VbAu7e32"
      },
      "execution_count": null,
      "outputs": []
    },
    {
      "cell_type": "markdown",
      "metadata": {
        "id": "DuSPTmwrVPd4"
      },
      "source": [
        "# Acknowledgement\n",
        "This exercise is inherited from https://github.com/danielegrattarola/spektral/blob/master/examples/other/graph_signal_classification_mnist.py "
      ]
    }
  ],
  "metadata": {
    "colab": {
      "name": "WOA7015_Wk9.ipynb",
      "provenance": [],
      "authorship_tag": "ABX9TyMB9+I21PgBhpAZp7kxYBxo",
      "include_colab_link": true
    },
    "kernelspec": {
      "display_name": "Python 3",
      "name": "python3"
    },
    "language_info": {
      "name": "python"
    }
  },
  "nbformat": 4,
  "nbformat_minor": 0
}